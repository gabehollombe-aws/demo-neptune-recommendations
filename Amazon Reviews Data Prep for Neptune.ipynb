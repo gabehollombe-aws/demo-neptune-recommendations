{
 "cells": [
  {
   "cell_type": "markdown",
   "metadata": {},
   "source": [
    "## Download the Amazon review data"
   ]
  },
  {
   "cell_type": "code",
   "execution_count": 4,
   "metadata": {},
   "outputs": [
    {
     "name": "stdout",
     "output_type": "stream",
     "text": [
      "--2018-11-01 07:05:07--  https://s3.amazonaws.com/amazon-reviews-pds/tsv/amazon_reviews_us_Video_Games_v1_00.tsv.gz\n",
      "Resolving s3.amazonaws.com (s3.amazonaws.com)... 52.216.1.147\n",
      "Connecting to s3.amazonaws.com (s3.amazonaws.com)|52.216.1.147|:443... connected.\n",
      "HTTP request sent, awaiting response... 200 OK\n",
      "Length: 475199894 (453M) [application/x-gzip]\n",
      "Saving to: ‘amazon_reviews_us_Video_Games_v1_00.tsv.gz’\n",
      "\n",
      "amazon_reviews_us_V 100%[===================>] 453.19M  38.1MB/s    in 12s     \n",
      "\n",
      "2018-11-01 07:05:20 (36.8 MB/s) - ‘amazon_reviews_us_Video_Games_v1_00.tsv.gz’ saved [475199894/475199894]\n",
      "\n"
     ]
    }
   ],
   "source": [
    "# Get the Amazon reviews data\n",
    "# More info at https://registry.opendata.aws/amazon-reviews/ and https://s3.amazonaws.com/amazon-reviews-pds/tsv/index.txt\n",
    "! wget https://s3.amazonaws.com/amazon-reviews-pds/tsv/amazon_reviews_us_Video_Games_v1_00.tsv.gz && gunzip amazon_reviews_us_Video_Games_v1_00.tsv.gz"
   ]
  },
  {
   "cell_type": "markdown",
   "metadata": {},
   "source": [
    "## Convert the review data into nodes and edges files for importing into Neptune"
   ]
  },
  {
   "cell_type": "code",
   "execution_count": 7,
   "metadata": {},
   "outputs": [],
   "source": [
    "import csv\n",
    "from collections import namedtuple, defaultdict\n",
    "\n",
    "review_file = \"amazon_reviews_us_Video_Games_v1_00.tsv\"\n",
    "review_vertexes_file = \"/mnt/data/reviews/video_games_nodes.csv\"\n",
    "review_edges_file = \"/mnt/data/reviews/video_games_edges.csv\"\n",
    "\n",
    "bucket_name = \"gabehol-graph-datasets\""
   ]
  },
  {
   "cell_type": "code",
   "execution_count": 2,
   "metadata": {},
   "outputs": [],
   "source": [
    "Customer = namedtuple('Customer', ['id'])\n",
    "Product = namedtuple('Product', ['id', 'title', 'category'])\n",
    "Review = namedtuple('Review', ['id', 'customer_id', 'product_id', 'star_rating', 'date'])\n",
    "\n",
    "customers = set()\n",
    "products = set()\n",
    "reviews = set()"
   ]
  },
  {
   "cell_type": "code",
   "execution_count": 4,
   "metadata": {},
   "outputs": [],
   "source": [
    "with open(review_file) as rf:\n",
    "    reader = csv.DictReader(rf, delimiter=\"\\t\", quotechar='\"',quoting=csv.QUOTE_NONE)\n",
    "\n",
    "    for row in reader:\n",
    "        customers.add(\n",
    "            Customer(\"c\"+row[\"customer_id\"])\n",
    "        )\n",
    "\n",
    "        products.add(\n",
    "            Product(\n",
    "                \"p\"+row[\"product_id\"],\n",
    "                row[\"product_title\"],\n",
    "                row[\"product_category\"]\n",
    "            )\n",
    "        )\n",
    "\n",
    "        reviews.add(\n",
    "            Review(\n",
    "                row['review_id'],\n",
    "                row['customer_id'],\n",
    "                row['product_id'],\n",
    "                row['star_rating'],\n",
    "                row['review_date']\n",
    "            )\n",
    "        )"
   ]
  },
  {
   "cell_type": "code",
   "execution_count": 5,
   "metadata": {},
   "outputs": [],
   "source": [
    "# Write out the nodes and edges files for importing into Neptune\n",
    "# More info on this format at https://docs.aws.amazon.com/neptune/latest/userguide/bulk-load-tutorial-format-gremlin.html\n",
    "\n",
    "with open(review_vertexes_file, \"w\") as f:\n",
    "    writer = csv.writer(f)\n",
    "    writer.writerow([\n",
    "        \"~id\", \n",
    "        \"~label\",\n",
    "        \"product_title:String\",\n",
    "        \"product_category:String\",        \n",
    "    ])\n",
    "\n",
    "    for customer in customers:\n",
    "        writer.writerow([\n",
    "            customer.id,\n",
    "            \"customer\",\n",
    "            \"\",\n",
    "            \"\"]\n",
    "        )\n",
    "        \n",
    "    for product in products:\n",
    "        writer.writerow([\n",
    "            product.id,\n",
    "            \"product\",\n",
    "            product.title,\n",
    "            product.category]\n",
    "        )\n",
    "        \n",
    "with open(review_edges_file, \"w\") as f:\n",
    "    writer = csv.writer(f)\n",
    "    writer.writerow([\n",
    "        \"~id\", \n",
    "        \"~from\",\n",
    "        \"~to\",        \n",
    "        \"~label\",                \n",
    "        \"star_rating:Int\",\n",
    "        \"date:Date\",        \n",
    "    ])\n",
    "\n",
    "    for review in reviews:\n",
    "        writer.writerow([\n",
    "            \"r\" + review.id,\n",
    "            \"c\"+review.customer_id,\n",
    "            \"p\"+review.product_id,\n",
    "            \"review\",\n",
    "            review.star_rating,\n",
    "            review.date]\n",
    "        )"
   ]
  },
  {
   "cell_type": "markdown",
   "metadata": {},
   "source": [
    "## Load the data into Neptune"
   ]
  },
  {
   "cell_type": "code",
   "execution_count": 6,
   "metadata": {},
   "outputs": [
    {
     "name": "stdout",
     "output_type": "stream",
     "text": [
      "upload: reviews/video_games_nodes.csv to s3://gabehol-graph-datasets/reviews/video_games_nodes.csv\n"
     ]
    }
   ],
   "source": [
    "# Upload nodes file to S3 for loading into Neptune\n",
    "! aws s3 cp {review_vertexes_file} s3://{bucket_name}/reviews/video_games_nodes.csv\n"
   ]
  },
  {
   "cell_type": "code",
   "execution_count": 7,
   "metadata": {},
   "outputs": [
    {
     "name": "stdout",
     "output_type": "stream",
     "text": [
      "upload: reviews/video_games_edges.csv to s3://gabehol-graph-datasets/reviews/video_game_edges.csv\n"
     ]
    }
   ],
   "source": [
    "# Upload edges file to S3 for loading into Neptune\n",
    "! aws s3 cp {review_edges_file} s3://{bucket_name}/reviews/video_game_edges.csv"
   ]
  },
  {
   "cell_type": "code",
   "execution_count": 28,
   "metadata": {},
   "outputs": [],
   "source": [
    "# Info about our neptune cluster\n",
    "neptune_host='neptunedbcluster-umztptccpt2t.cluster-ct6mcfcdqyrw.us-east-1.neptune.amazonaws.com'\n",
    "neptune_iam_role='arn:aws:iam::541003905521:role/NeptuneQuickStart-NeptuneSta-NeptuneLoadFromS3Role-T4SA5MUD9VX7'\n",
    "neptune_load_src=f's3://{bucket_name}/reviews'\n",
    "neptune_region='us-east-1'"
   ]
  },
  {
   "cell_type": "code",
   "execution_count": 33,
   "metadata": {},
   "outputs": [
    {
     "name": "stdout",
     "output_type": "stream",
     "text": [
      "{\n",
      "    \"status\" : \"200 OK\",\n",
      "    \"payload\" : {\n",
      "        \"loadId\" : \"f11d0b7b-80ba-4d6e-baf6-6a1ca8399156\"\n",
      "    }\n",
      "}"
     ]
    },
    {
     "name": "stderr",
     "output_type": "stream",
     "text": [
      "  % Total    % Received % Xferd  Average Speed   Time    Time     Time  Current\n",
      "                                 Dload  Upload   Total   Spent    Left  Speed\n",
      "\r",
      "  0     0    0     0    0     0      0      0 --:--:-- --:--:-- --:--:--     0\r",
      "100   346  100   110  100   236    462    991 --:--:-- --:--:-- --:--:--   995\n"
     ]
    }
   ],
   "source": [
    "%%bash -s {neptune_host} {neptune_load_src} {neptune_iam_role} {neptune_region}\n",
    "curl -X POST -H 'Content-Type: application/json' http://$1:8182/loader -d @- << EOF\n",
    "{\n",
    "  \"source\" : \"$2\",\n",
    "  \"format\" : \"csv\",  \n",
    "  \"iamRoleArn\" : \"$3\", \n",
    "  \"region\" : \"$4\", \n",
    "  \"failOnError\" : \"FALSE\"\n",
    "}\n",
    "EOF"
   ]
  }
 ],
 "metadata": {
  "kernelspec": {
   "display_name": "Python 3",
   "language": "python",
   "name": "python3"
  },
  "language_info": {
   "codemirror_mode": {
    "name": "ipython",
    "version": 3
   },
   "file_extension": ".py",
   "mimetype": "text/x-python",
   "name": "python",
   "nbconvert_exporter": "python",
   "pygments_lexer": "ipython3",
   "version": "3.6.5"
  }
 },
 "nbformat": 4,
 "nbformat_minor": 2
}
